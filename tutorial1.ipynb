{
 "cells": [
  {
   "cell_type": "markdown",
   "id": "e3020422",
   "metadata": {},
   "source": [
    "# Alberqisque, PY 03270\n",
    "\n",
    "This is originally a FLIQ submission, authored by Abdullah, Jayesh, and Mack. Is a Jupyter-based educational game intended to familiarize the player to various quantum algorithms, with classical counterparts. The game is designed to be played in a Jupyter notebook, and it is intended for use in a classroom setting. The game is based on the concept of a \"quantum computer\" and its ability to solve problems that are intractable for classical computers. The game is designed to be played by students who are familiar with the basics of quantum computing, and it is intended to be used as a teaching tool.\n",
    "\n",
    "Additionally, you will also learn how to use the Conda environment manager, and Jupyterlab, allowing you to switch between Python versions and run Python on an interactive environment.\n",
    "\n",
    "## Plot\n",
    "\n",
    "John Doe, a salesman at the quint Qiskit County of Pythonidae, has to solve an intractable problem. He has to find the best route to visit all the customers in his territory, which is represented as a graph. The graph is defined by a set of vertices (customers) and edges (roads). The residents of this county is concerned about the failing infrastructure of the roads, and they want to know if the roads are still in good condition. John has to find the best route to visit all the customers, while also taking into account the condition of the roads. He can only visit each customer once, and he has to return to his starting point. \n",
    "\n",
    "Sincerely,\n",
    "\n",
    "Xixa Starova ✨ 🇦🇱"
   ]
  },
  {
   "cell_type": "markdown",
   "id": "c8e7dab6",
   "metadata": {},
   "source": [
    "## Chapter 0: Qiskit, Jupyter, and Hello World\n",
    "\n",
    "Before we start our journey, we need to know about the specialty of Qiskit, the main export of Alberqisque. Designed by IBM, Qiskit is a premier quantum computing framework allowing developers and researchers to quickly design quantum and hybrid quantum-classical circuits in Python. The main components of Qiskit is its software development kit (supplying the circuit library and transpilers), and the runtime environment (which supplies methods for running a quantum circuit on either a simulator or a real machine).\n",
    "\n",
    "There are many related open-source projects that use the \"Qiskit\" name, but are not part of Qiskit itself; rather, they interface with Qiskit to provide valuable second-order functionality. Qiskit Aer is one such package that interfaces with Qiskit, providing quantum computing simulators with realistic noise models; moreover it is also maintained by IBM Quantum.\n",
    "\n",
    "We also need to be acquainted with Jupyter, which allows you to interactively run Python code in a code editor (such as Visual Studio Code), and related mathematical libraries. To run Jupyter on Visual Studio Code, you need to install the `ipykernel` package.\n",
    "\n",
    "### Prerequisites\n",
    "\n",
    "* A _Tier 1_ platform\n",
    "    * 64-bit Windows 10 or 11\n",
    "    * MacOS\n",
    "    * Linux x86_64, ARM64, or AArch64\n",
    "* Python 3.12 (Python 3.13 is currently incompatible)\n",
    "* Optionally, a virtual environment\n",
    "    * Vanilla .venv\n",
    "    * Conda"
   ]
  },
  {
   "cell_type": "markdown",
   "id": "aa381f6c",
   "metadata": {},
   "source": [
    "### 0.1: Installing Qiskit\n",
    "\n",
    "We will run Qiskit using Python. Recently, Qiskit is also a C framework. Qiskit is compatible with Python 3.12 (but not Python 3.13 at the time of writing). It is recommended to use Conda to create a virtual environment, and then use the Conda Forge channel to install the Qiskit modules. This allows easy switching between Python versions to ensure that you are using the compatible version of Python.\n",
    "\n",
    "The SDK is simply named the `qiskit` package. The runtime is named the `qiskit-ibm-runtime` package. We will also use the `qiskit-aer` if necessary, as this related package is required for using simulators (the easy mode) of the game.\n",
    "\n",
    "```bash\n",
    "$ conda create -n qiskit2 python=3.12\n",
    "$ conda activate qiskit2\n",
    "```\n",
    "\n",
    "If so, you can install Qiskit using the Conda Forge channel instead of pip:\n",
    "\n",
    "```bash\n",
    "$ conda install conda-forge::qiskit\n",
    "$ conda install conda-forge::qiskit conda-forge::qiskit-ibm-runtime conda-forge::qiskit-aer\n",
    "$ conda install conda-forge::jupyterlab conda-forge::ipykernel\n",
    "```\n",
    "\n",
    "We will also install auxiliary packages that are used for visualizating and adding further interactivity to the notebook.\n",
    "\n",
    "```bash\n",
    "$ conda install conda-forge::numpy conda-forge::matplotlib conda-forge::pylatexenc\n",
    "```\n",
    "\n",
    "However, there is one incompatibility that can be ersolved by force-reinstalling the `sqlite` package. Otherwise, you will see that `sqlite3_deserialize` is an undefined symbol in some `.so` file.\n",
    "\n",
    "```bash\n",
    "$ conda install conda-forge::libsqlite --force-reinstall\n",
    "$ conda install conda-forge::sqlite --force-reinstall\n",
    "```"
   ]
  },
  {
   "cell_type": "markdown",
   "id": "43743033",
   "metadata": {},
   "source": [
    "### 0.2: Importing Qiskit packages\n",
    "\n",
    "The mayor of Alberqisque, David Hamilton Israel, will introduce you to two facets of this quest: namely quantum computing, and the Qiskit platform. Israel will teach you how to build, display, and run the circuit using the `qiskit`, `qiskit-ibm-runtime`, and `qiskit-aer` packages. Each package has many subpackages; please explicitly list them when you need to use them.\n",
    "\n",
    "If the first cell fails, it usually means that the packages are not installed, or that you are using an incompatible version of Python. Israel has already provided two lines that might fix the problem, by running `conda install conda-forge::libsqlite conda-forge::sqlite --force-reinstall`.\n",
    "\n",
    "Auxiliary packages not involved with the actual quantum operations, such as MatPlotLib and PyGame will also be imported to visualize and animate the process and outputs of a quantum computation."
   ]
  },
  {
   "cell_type": "code",
   "execution_count": 10,
   "id": "8926c506",
   "metadata": {},
   "outputs": [
    {
     "data": {
      "text/plain": [
       "(qiskit.circuit.quantumcircuit.QuantumCircuit,\n",
       " qiskit_ibm_runtime.estimator.EstimatorV2,\n",
       " <module 'matplotlib' from '/home/samaria/miniconda3/envs/qiskit2/lib/python3.12/site-packages/matplotlib/__init__.py'>)"
      ]
     },
     "execution_count": 10,
     "metadata": {},
     "output_type": "execute_result"
    }
   ],
   "source": [
    "# qiskit (SDK) packages\n",
    "from qiskit import QuantumCircuit\n",
    "from qiskit.quantum_info import SparsePauliOp\n",
    "from qiskit.transpiler import generate_preset_pass_manager\n",
    "\n",
    "# qiskit-ibm-runtime (RE) packages\n",
    "from qiskit_ibm_runtime import QiskitRuntimeService\n",
    "from qiskit_ibm_runtime import EstimatorV2 as Estimator\n",
    "from qiskit_ibm_runtime import SamplerV2 as Sampler\n",
    "\n",
    "# Auxiliary packages\n",
    "import matplotlib\n",
    "import pylatexenc\n",
    "\n",
    "# Test out if appropriate packages are used\n",
    "(QuantumCircuit, Estimator, matplotlib)"
   ]
  },
  {
   "cell_type": "markdown",
   "id": "4a936c78",
   "metadata": {},
   "source": [
    "### 0.3: Hello World\n",
    "\n",
    "Israel will demonstrate how to build a simple quantum circuit, and how to express that in mathematical language. \n",
    "\n",
    "__Linear algebra__ and __probability theory__ is a prerequisite for the readiness of that subject, but you can easily pick up these skills by envisioning these topics from real life experience. \n",
    "\n",
    "In particular, a __vector__ can be seen as a direction, a point in Cartesian space, or an ordered tuple; a __matrix__ can be seen as the relationship between pairs of inputs and outputs; finally, __matrix multiplication__ can be seen as producing output entries simply from multiples of input entries as described by the matrix in parallel. The efficiencies of quantum computing all come from vectorizing linear algebra operations."
   ]
  },
  {
   "cell_type": "markdown",
   "id": "af158386",
   "metadata": {},
   "source": [
    "#### 0.3.1: Creating a Bell State circuit using the SDK\n",
    "\n",
    "Let's construct a two-qubit quantum gate consisting of an $H$ gate on the zeroth qubit and a $CX$ gate on the first qubit controlled by the zeroth qubit. We then draw and measure the circuit on the $Z$ basis.\n",
    "\n",
    "* The $H$ gate is the most basic gate which creates a superposition of the two qubits. \n",
    "    * An $H$ gate applied to a qubit in the $\\left|0\\right\\rangle$ state (the starting state) transforms it to the superposition state $\\frac{\\left|0\\right\\rangle + \\left|1\\right\\rangle}{\\sqrt{2}}$. \n",
    "    * Visually, it can be seen as a full-sized disks with radius unity being split into two half-sized disks of radius $1/\\sqrt{2}$, one on the slot zero, and one on slot one. \n",
    "    * The areas of the disks determine the probabilities of measuring the qubit in the state where that particular disk resides in. This is one of the postulates of quantum mechanics, called the __Born rule__.\n",
    "* The $CX$ gates, equivalent to the controlled-NOT gate, is a two-qubit gate that flips the __target qubit__ if the __control qubit__ is in the $\\left|1\\right\\rangle$ state.\n",
    "    * This is the first gate that can create asymmetry and entanglement.\n",
    "    * Unfortunately, this gate is not native to our quantum devices...\n",
    "* The $Z$ basis is also called the computational basis. This is because states $\\left|0\\right\\rangle$ and $\\left|1\\right\\rangle$ are the two states that have special significance when meausred in this basis.\n",
    "    * The word 'basis' can be visualized as the axes and unit lengths of a Cartesian coordinate system centered and oriented at a designated point on the map.\n",
    "    * The measurement results on the $Z$ basis will always be a $+1$ or a $-1$. These are the __eigenvalues__ of the $Z$ operator, and is what we can directly see per measurement.\n",
    "    * The basis vectors on the $Z$ basis are labelled as $\\left|0\\right\\rangle$ and $\\left|1\\right\\rangle$ respectively. These are the __eigenvectors__ of the $Z$ operator."
   ]
  },
  {
   "cell_type": "code",
   "execution_count": 8,
   "id": "407b0b7e",
   "metadata": {},
   "outputs": [
    {
     "data": {
      "image/png": "[encoded data removed]",
      "text/plain": [
       "<Figure size 287.294x200.667 with 1 Axes>"
      ]
     },
     "execution_count": 8,
     "metadata": {},
     "output_type": "execute_result"
    }
   ],
   "source": [
    "# Create a Bell Psi+ gate. In the Z basis, this is |00> + |11> unnormalized.\n",
    "qc = QuantumCircuit(2)\n",
    "qc.h(0)\n",
    "qc.cx(0, 1)\n",
    "qc.draw(\"mpl\")"
   ]
  },
  {
   "cell_type": "markdown",
   "id": "e84ccfcd",
   "metadata": {},
   "source": [
    "#### 0.3.2a: Signing in to IBM Quantum\n",
    "\n",
    "We need account credentials to run the circuit on a real quantum device. You can create an account at [IBM Quantum](https://quantum-computing.ibm.com/), create a __Qiskit Runtime Instance__, and obtain both the common __Cloud API Key__ and the __Cloud Resource Name (CRN)__."
   ]
  },
  {
   "cell_type": "code",
   "execution_count": 14,
   "id": "5ed5e622",
   "metadata": {},
   "outputs": [],
   "source": [
    "# Save an IBM Cloud account.\n",
    "IBM_CLOUD_API_KEY = input(\"Enter your IBM Cloud API key: \")\n",
    "IBM_CLOUD_CRN = input(\"Enter your IBM Cloud CRN: \")\n",
    "QiskitRuntimeService.save_account(channel=\"ibm_cloud\", token=IBM_CLOUD_API_KEY, instance=IBM_CLOUD_CRN)"
   ]
  },
  {
   "cell_type": "markdown",
   "id": "d7c6be0b",
   "metadata": {},
   "source": [
    "#### 0.3.1: Making the circuit compatible with our machines using the Runtime\n",
    "\n",
    "When executing circuits on a real device, we must mind that each device may natively support a different set of gates. Our machines currently support the $X, RZ, and SX$ single-qubit gates, and the $CZ$ two-qubit gate. Recently, the fractional gates $RX$ and $RZZ$ gates are introduced ($RZZ$ performs a parallel $RZ$). Familiar gates you are first introduced such as the $CX$, $H$, and $Y$ gates are expressed in terms of the native gates."
   ]
  },
  {
   "cell_type": "code",
   "execution_count": 15,
   "id": "a8181468",
   "metadata": {},
   "outputs": [
    {
     "name": "stderr",
     "output_type": "stream",
     "text": [
      "/tmp/ipykernel_49300/1614038964.py:1: DeprecationWarning: The \"ibm_quantum\" channel option is deprecated and will be sunset on 1 July. After this date, \"ibm_cloud\" and \"local\" will be the only valid channels. For information on migrating to the new IBM Quantum Platform on the \"ibm_cloud\" channel, review the migration guide https://quantum.cloud.ibm.com/docs/migration-guides/classic-iqp-to-cloud-iqp .\n",
      "  service = QiskitRuntimeService()\n"
     ]
    },
    {
     "ename": "IBMNotAuthorizedError",
     "evalue": "'401 Client Error: Unauthorized for url: https://auth.quantum.ibm.com/api/users/loginWithToken. Login failed., Error code: 3446.'",
     "output_type": "error",
     "traceback": [
      "\u001b[31m---------------------------------------------------------------------------\u001b[39m",
      "\u001b[31mHTTPError\u001b[39m                                 Traceback (most recent call last)",
      "\u001b[36mFile \u001b[39m\u001b[32m~/miniconda3/envs/qiskit2/lib/python3.12/site-packages/qiskit_ibm_runtime/api/session.py:328\u001b[39m, in \u001b[36mRetrySession.request\u001b[39m\u001b[34m(self, method, url, bare, **kwargs)\u001b[39m\n\u001b[32m    327\u001b[39m     response = \u001b[38;5;28msuper\u001b[39m().request(method, final_url, headers=headers, **kwargs)\n\u001b[32m--> \u001b[39m\u001b[32m328\u001b[39m     response.raise_for_status()\n\u001b[32m    329\u001b[39m \u001b[38;5;28;01mexcept\u001b[39;00m RequestException \u001b[38;5;28;01mas\u001b[39;00m ex:\n\u001b[32m    330\u001b[39m     \u001b[38;5;66;03m# Wrap the requests exceptions into a IBM Q custom one, for\u001b[39;00m\n\u001b[32m    331\u001b[39m     \u001b[38;5;66;03m# compatibility.\u001b[39;00m\n",
      "\u001b[36mFile \u001b[39m\u001b[32m~/miniconda3/envs/qiskit2/lib/python3.12/site-packages/requests/models.py:1024\u001b[39m, in \u001b[36mResponse.raise_for_status\u001b[39m\u001b[34m(self)\u001b[39m\n\u001b[32m   1023\u001b[39m \u001b[38;5;28;01mif\u001b[39;00m http_error_msg:\n\u001b[32m-> \u001b[39m\u001b[32m1024\u001b[39m     \u001b[38;5;28;01mraise\u001b[39;00m HTTPError(http_error_msg, response=\u001b[38;5;28mself\u001b[39m)\n",
      "\u001b[31mHTTPError\u001b[39m: 401 Client Error: Unauthorized for url: https://auth.quantum.ibm.com/api/users/loginWithToken",
      "\nThe above exception was the direct cause of the following exception:\n",
      "\u001b[31mIBMNotAuthorizedError\u001b[39m                     Traceback (most recent call last)",
      "\u001b[36mCell\u001b[39m\u001b[36m \u001b[39m\u001b[32mIn[15]\u001b[39m\u001b[32m, line 1\u001b[39m\n\u001b[32m----> \u001b[39m\u001b[32m1\u001b[39m service = QiskitRuntimeService()\n\u001b[32m      2\u001b[39m backend = service.least_busy(simulator=\u001b[38;5;28;01mFalse\u001b[39;00m, operational=\u001b[38;5;28;01mTrue\u001b[39;00m)\n\u001b[32m      3\u001b[39m pm = generate_preset_pass_manager(backend=backend, optimization_level=\u001b[32m1\u001b[39m)\n",
      "\u001b[36mFile \u001b[39m\u001b[32m~/miniconda3/envs/qiskit2/lib/python3.12/site-packages/qiskit_ibm_runtime/qiskit_runtime_service.py:171\u001b[39m, in \u001b[36mQiskitRuntimeService.__init__\u001b[39m\u001b[34m(self, channel, token, url, filename, name, instance, proxies, verify, private_endpoint, url_resolver)\u001b[39m\n\u001b[32m    161\u001b[39m \u001b[38;5;28;01melse\u001b[39;00m:\n\u001b[32m    162\u001b[39m     warnings.warn(\n\u001b[32m    163\u001b[39m         \u001b[33m'\u001b[39m\u001b[33mThe \u001b[39m\u001b[33m\"\u001b[39m\u001b[33mibm_quantum\u001b[39m\u001b[33m\"\u001b[39m\u001b[33m channel option is deprecated and will be sunset on 1 July. \u001b[39m\u001b[33m'\u001b[39m\n\u001b[32m    164\u001b[39m         \u001b[33m'\u001b[39m\u001b[33mAfter this date, \u001b[39m\u001b[33m\"\u001b[39m\u001b[33mibm_cloud\u001b[39m\u001b[33m\"\u001b[39m\u001b[33m and \u001b[39m\u001b[33m\"\u001b[39m\u001b[33mlocal\u001b[39m\u001b[33m\"\u001b[39m\u001b[33m will be the only valid channels. \u001b[39m\u001b[33m'\u001b[39m\n\u001b[32m   (...)\u001b[39m\u001b[32m    169\u001b[39m         stacklevel=\u001b[32m2\u001b[39m,\n\u001b[32m    170\u001b[39m     )\n\u001b[32m--> \u001b[39m\u001b[32m171\u001b[39m     auth_client = \u001b[38;5;28mself\u001b[39m._authenticate_ibm_quantum_account(\u001b[38;5;28mself\u001b[39m._client_params)\n\u001b[32m    172\u001b[39m     \u001b[38;5;66;03m# Update client parameters to use authenticated values.\u001b[39;00m\n\u001b[32m    173\u001b[39m     \u001b[38;5;28mself\u001b[39m._client_params.url = auth_client.current_service_urls()[\u001b[33m\"\u001b[39m\u001b[33mservices\u001b[39m\u001b[33m\"\u001b[39m][\u001b[33m\"\u001b[39m\u001b[33mruntime\u001b[39m\u001b[33m\"\u001b[39m]\n",
      "\u001b[36mFile \u001b[39m\u001b[32m~/miniconda3/envs/qiskit2/lib/python3.12/site-packages/qiskit_ibm_runtime/qiskit_runtime_service.py:293\u001b[39m, in \u001b[36mQiskitRuntimeService._authenticate_ibm_quantum_account\u001b[39m\u001b[34m(self, client_params)\u001b[39m\n\u001b[32m    286\u001b[39m \u001b[38;5;28;01mif\u001b[39;00m \u001b[38;5;129;01mnot\u001b[39;00m version_info[\u001b[33m\"\u001b[39m\u001b[33mnew_api\u001b[39m\u001b[33m\"\u001b[39m] \u001b[38;5;129;01mor\u001b[39;00m \u001b[33m\"\u001b[39m\u001b[33mapi-auth\u001b[39m\u001b[33m\"\u001b[39m \u001b[38;5;129;01mnot\u001b[39;00m \u001b[38;5;129;01min\u001b[39;00m version_info:\n\u001b[32m    287\u001b[39m     \u001b[38;5;28;01mraise\u001b[39;00m IBMInputValueError(\n\u001b[32m    288\u001b[39m         \u001b[33m\"\u001b[39m\u001b[33mThe URL specified (\u001b[39m\u001b[38;5;132;01m{}\u001b[39;00m\u001b[33m) is not an IBM Quantum authentication URL. \u001b[39m\u001b[33m\"\u001b[39m\n\u001b[32m    289\u001b[39m         \u001b[33m\"\u001b[39m\u001b[33mValid authentication URL: \u001b[39m\u001b[38;5;132;01m{}\u001b[39;00m\u001b[33m.\u001b[39m\u001b[33m\"\u001b[39m.format(\n\u001b[32m    290\u001b[39m             client_params.url, QISKIT_IBM_RUNTIME_API_URL\n\u001b[32m    291\u001b[39m         )\n\u001b[32m    292\u001b[39m     )\n\u001b[32m--> \u001b[39m\u001b[32m293\u001b[39m auth_client = AuthClient(client_params)\n\u001b[32m    294\u001b[39m service_urls = auth_client.current_service_urls()\n\u001b[32m    295\u001b[39m \u001b[38;5;28;01mif\u001b[39;00m \u001b[38;5;129;01mnot\u001b[39;00m service_urls.get(\u001b[33m\"\u001b[39m\u001b[33mservices\u001b[39m\u001b[33m\"\u001b[39m, {}).get(SERVICE_NAME):\n",
      "\u001b[36mFile \u001b[39m\u001b[32m~/miniconda3/envs/qiskit2/lib/python3.12/site-packages/qiskit_ibm_runtime/api/clients/auth.py:39\u001b[39m, in \u001b[36mAuthClient.__init__\u001b[39m\u001b[34m(self, client_params)\u001b[39m\n\u001b[32m     36\u001b[39m \u001b[38;5;28mself\u001b[39m._service_urls = {}  \u001b[38;5;66;03m# type: ignore[var-annotated]\u001b[39;00m\n\u001b[32m     38\u001b[39m \u001b[38;5;28mself\u001b[39m.auth_api = Api(RetrySession(\u001b[38;5;28mself\u001b[39m.auth_url, **client_params.connection_parameters()))\n\u001b[32m---> \u001b[39m\u001b[32m39\u001b[39m \u001b[38;5;28mself\u001b[39m.base_api = \u001b[38;5;28mself\u001b[39m._init_service_clients(**client_params.connection_parameters())\n",
      "\u001b[36mFile \u001b[39m\u001b[32m~/miniconda3/envs/qiskit2/lib/python3.12/site-packages/qiskit_ibm_runtime/api/clients/auth.py:51\u001b[39m, in \u001b[36mAuthClient._init_service_clients\u001b[39m\u001b[34m(self, **request_kwargs)\u001b[39m\n\u001b[32m     42\u001b[39m \u001b[38;5;250m\u001b[39m\u001b[33;03m\"\"\"Initialize the clients used for communicating with the API.\u001b[39;00m\n\u001b[32m     43\u001b[39m \n\u001b[32m     44\u001b[39m \u001b[33;03mArgs:\u001b[39;00m\n\u001b[32m   (...)\u001b[39m\u001b[32m     48\u001b[39m \u001b[33;03m    Client for the API server.\u001b[39;00m\n\u001b[32m     49\u001b[39m \u001b[33;03m\"\"\"\u001b[39;00m\n\u001b[32m     50\u001b[39m \u001b[38;5;66;03m# Request an access token.\u001b[39;00m\n\u001b[32m---> \u001b[39m\u001b[32m51\u001b[39m \u001b[38;5;28mself\u001b[39m.access_token = \u001b[38;5;28mself\u001b[39m._request_access_token()\n\u001b[32m     52\u001b[39m \u001b[38;5;28mself\u001b[39m.auth_api.session.auth = QuantumAuth(access_token=\u001b[38;5;28mself\u001b[39m.access_token)\n\u001b[32m     53\u001b[39m \u001b[38;5;28mself\u001b[39m._service_urls = \u001b[38;5;28mself\u001b[39m.user_urls()\n",
      "\u001b[36mFile \u001b[39m\u001b[32m~/miniconda3/envs/qiskit2/lib/python3.12/site-packages/qiskit_ibm_runtime/api/clients/auth.py:77\u001b[39m, in \u001b[36mAuthClient._request_access_token\u001b[39m\u001b[34m(self)\u001b[39m\n\u001b[32m     67\u001b[39m \u001b[38;5;250m\u001b[39m\u001b[33;03m\"\"\"Request a new access token from the API authentication service.\u001b[39;00m\n\u001b[32m     68\u001b[39m \n\u001b[32m     69\u001b[39m \u001b[33;03mReturns:\u001b[39;00m\n\u001b[32m   (...)\u001b[39m\u001b[32m     74\u001b[39m \u001b[33;03m    RequestsApiError: If the request failed.\u001b[39;00m\n\u001b[32m     75\u001b[39m \u001b[33;03m\"\"\"\u001b[39;00m\n\u001b[32m     76\u001b[39m \u001b[38;5;28;01mtry\u001b[39;00m:\n\u001b[32m---> \u001b[39m\u001b[32m77\u001b[39m     response = \u001b[38;5;28mself\u001b[39m.auth_api.login(\u001b[38;5;28mself\u001b[39m.api_token)\n\u001b[32m     78\u001b[39m     \u001b[38;5;28;01mreturn\u001b[39;00m response[\u001b[33m\"\u001b[39m\u001b[33mid\u001b[39m\u001b[33m\"\u001b[39m]\n\u001b[32m     79\u001b[39m \u001b[38;5;28;01mexcept\u001b[39;00m RequestsApiError \u001b[38;5;28;01mas\u001b[39;00m ex:\n\u001b[32m     80\u001b[39m     \u001b[38;5;66;03m# Get the original exception that raised.\u001b[39;00m\n",
      "\u001b[36mFile \u001b[39m\u001b[32m~/miniconda3/envs/qiskit2/lib/python3.12/site-packages/qiskit_ibm_runtime/api/rest/root.py:93\u001b[39m, in \u001b[36mApi.login\u001b[39m\u001b[34m(self, api_token)\u001b[39m\n\u001b[32m     84\u001b[39m \u001b[38;5;250m\u001b[39m\u001b[33;03m\"\"\"Login with token.\u001b[39;00m\n\u001b[32m     85\u001b[39m \n\u001b[32m     86\u001b[39m \u001b[33;03mArgs:\u001b[39;00m\n\u001b[32m   (...)\u001b[39m\u001b[32m     90\u001b[39m \u001b[33;03m    JSON response.\u001b[39;00m\n\u001b[32m     91\u001b[39m \u001b[33;03m\"\"\"\u001b[39;00m\n\u001b[32m     92\u001b[39m url = \u001b[38;5;28mself\u001b[39m.get_url(\u001b[33m\"\u001b[39m\u001b[33mlogin\u001b[39m\u001b[33m\"\u001b[39m)\n\u001b[32m---> \u001b[39m\u001b[32m93\u001b[39m \u001b[38;5;28;01mreturn\u001b[39;00m \u001b[38;5;28mself\u001b[39m.session.post(\n\u001b[32m     94\u001b[39m     url, json={\u001b[33m\"\u001b[39m\u001b[33mapiToken\u001b[39m\u001b[33m\"\u001b[39m: api_token}, headers=\u001b[38;5;28mself\u001b[39m._HEADER_JSON_CONTENT\n\u001b[32m     95\u001b[39m ).json()\n",
      "\u001b[36mFile \u001b[39m\u001b[32m~/miniconda3/envs/qiskit2/lib/python3.12/site-packages/requests/sessions.py:637\u001b[39m, in \u001b[36mSession.post\u001b[39m\u001b[34m(self, url, data, json, **kwargs)\u001b[39m\n\u001b[32m    626\u001b[39m \u001b[38;5;28;01mdef\u001b[39;00m\u001b[38;5;250m \u001b[39m\u001b[34mpost\u001b[39m(\u001b[38;5;28mself\u001b[39m, url, data=\u001b[38;5;28;01mNone\u001b[39;00m, json=\u001b[38;5;28;01mNone\u001b[39;00m, **kwargs):\n\u001b[32m    627\u001b[39m \u001b[38;5;250m    \u001b[39m\u001b[33mr\u001b[39m\u001b[33;03m\"\"\"Sends a POST request. Returns :class:`Response` object.\u001b[39;00m\n\u001b[32m    628\u001b[39m \n\u001b[32m    629\u001b[39m \u001b[33;03m    :param url: URL for the new :class:`Request` object.\u001b[39;00m\n\u001b[32m   (...)\u001b[39m\u001b[32m    634\u001b[39m \u001b[33;03m    :rtype: requests.Response\u001b[39;00m\n\u001b[32m    635\u001b[39m \u001b[33;03m    \"\"\"\u001b[39;00m\n\u001b[32m--> \u001b[39m\u001b[32m637\u001b[39m     \u001b[38;5;28;01mreturn\u001b[39;00m \u001b[38;5;28mself\u001b[39m.request(\u001b[33m\"\u001b[39m\u001b[33mPOST\u001b[39m\u001b[33m\"\u001b[39m, url, data=data, json=json, **kwargs)\n",
      "\u001b[36mFile \u001b[39m\u001b[32m~/miniconda3/envs/qiskit2/lib/python3.12/site-packages/qiskit_ibm_runtime/api/session.py:349\u001b[39m, in \u001b[36mRetrySession.request\u001b[39m\u001b[34m(self, method, url, bare, **kwargs)\u001b[39m\n\u001b[32m    347\u001b[39m         message += \u001b[33mf\u001b[39m\u001b[33m\"\u001b[39m\u001b[33m. \u001b[39m\u001b[38;5;132;01m{\u001b[39;00mex.response.text\u001b[38;5;132;01m}\u001b[39;00m\u001b[33m\"\u001b[39m\n\u001b[32m    348\u001b[39m \u001b[38;5;28;01mif\u001b[39;00m status_code == \u001b[32m401\u001b[39m:\n\u001b[32m--> \u001b[39m\u001b[32m349\u001b[39m     \u001b[38;5;28;01mraise\u001b[39;00m IBMNotAuthorizedError(message) \u001b[38;5;28;01mfrom\u001b[39;00m\u001b[38;5;250m \u001b[39m\u001b[34;01mex\u001b[39;00m\n\u001b[32m    350\u001b[39m \u001b[38;5;28;01mif\u001b[39;00m status_code == \u001b[32m503\u001b[39m:  \u001b[38;5;66;03m# Planned maintenance outage\u001b[39;00m\n\u001b[32m    351\u001b[39m     \u001b[38;5;28;01mraise\u001b[39;00m RequestsApiError(\n\u001b[32m    352\u001b[39m         \u001b[33m\"\u001b[39m\u001b[33mUnexpected response received from server. Please check if the service \u001b[39m\u001b[33m\"\u001b[39m\n\u001b[32m    353\u001b[39m         \u001b[33m\"\u001b[39m\u001b[33mis in maintenance mode \u001b[39m\u001b[33m\"\u001b[39m\n\u001b[32m    354\u001b[39m         \u001b[33mf\u001b[39m\u001b[33m\"\u001b[39m\u001b[33mhttps://docs.quantum.ibm.com/announcements/service-alerts \u001b[39m\u001b[38;5;132;01m{\u001b[39;00mmessage\u001b[38;5;132;01m}\u001b[39;00m\u001b[33m\"\u001b[39m\n\u001b[32m    355\u001b[39m     )\n",
      "\u001b[31mIBMNotAuthorizedError\u001b[39m: '401 Client Error: Unauthorized for url: https://auth.quantum.ibm.com/api/users/loginWithToken. Login failed., Error code: 3446.'"
     ]
    }
   ],
   "source": [
    "service = QiskitRuntimeService()\n",
    "backend = service.least_busy(simulator=False, operational=True)\n",
    "pm = generate_preset_pass_manager(backend=backend, optimization_level=1)\n",
    "isa_circuit = pm.run(qc)\n",
    "isa_circuit.draw(\"mpl\", idle_wires=False)"
   ]
  },
  {
   "cell_type": "markdown",
   "id": "c7b6dc01",
   "metadata": {},
   "source": [
    "## Chapter 1: Your basic quantum algorithm\n",
    "\n",
    "Your first chapter will introduce you to only basic quantum algorithms, without any reference to its classical counterpart."
   ]
  },
  {
   "cell_type": "markdown",
   "id": "3da54a54",
   "metadata": {},
   "source": [
    "## Chapter 2: Searching the pile\n",
    "\n",
    "Your second chapter will introduce you to the Grover Search. John Doe needs to use the Grover Search to find the key that will provide him with a QAOA tool for his definitive problem."
   ]
  },
  {
   "cell_type": "markdown",
   "id": "853e0cf1",
   "metadata": {},
   "source": [
    "## Chapter 3: Choosing the routes\n",
    "\n",
    "Your third chapter will introduce you to QAOA and Hamiltonian energy optimization. The tools for this algorithm will provide John the best route to reallocate the various neighborhoods in this beleaguered county."
   ]
  }
 ],
 "metadata": {
  "kernelspec": {
   "display_name": "qiskit2",
   "language": "python",
   "name": "python3"
  },
  "language_info": {
   "codemirror_mode": {
    "name": "ipython",
    "version": 3
   },
   "file_extension": ".py",
   "mimetype": "text/x-python",
   "name": "python",
   "nbconvert_exporter": "python",
   "pygments_lexer": "ipython3",
   "version": "3.12.2"
  }
 },
 "nbformat": 4,
 "nbformat_minor": 5
}
